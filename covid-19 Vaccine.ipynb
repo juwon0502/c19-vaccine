from google.colab import files

uploaded = files.upload()

for fn in uploaded.keys():
  print('User uploaded file "{name}" with length {length} bytes'.format(
      name=fn, length=len(uploaded[fn])))
  
# Then move kaggle.json into the folder where the API expects to find it.
!mkdir -p ~/.kaggle/ && mv kaggle.json ~/.kaggle/ && chmod 600 ~/.kaggle/kaggle.json

!kaggle datasets download "gpreda/covid-world-vaccination-progress"
!unzip covid-world-vaccination-progress.zip
